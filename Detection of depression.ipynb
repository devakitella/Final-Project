{
 "cells": [
  {
   "cell_type": "code",
   "execution_count": 1,
   "metadata": {},
   "outputs": [],
   "source": [
    "import numpy as np\n",
    "import pandas as pd"
   ]
  },
  {
   "cell_type": "code",
   "execution_count": 2,
   "metadata": {},
   "outputs": [],
   "source": [
    "data = pd.read_csv('dataset_twitter.csv',encoding=\"utf-8\")"
   ]
  },
  {
   "cell_type": "code",
   "execution_count": 3,
   "metadata": {},
   "outputs": [
    {
     "data": {
      "text/plain": [
       "(11434, 3)"
      ]
     },
     "execution_count": 3,
     "metadata": {},
     "output_type": "execute_result"
    }
   ],
   "source": [
    "data.shape"
   ]
  },
  {
   "cell_type": "code",
   "execution_count": 4,
   "metadata": {},
   "outputs": [
    {
     "data": {
      "text/plain": [
       "Id        0\n",
       "Text      0\n",
       "Target    0\n",
       "dtype: int64"
      ]
     },
     "execution_count": 4,
     "metadata": {},
     "output_type": "execute_result"
    }
   ],
   "source": [
    "data.isnull().sum()"
   ]
  },
  {
   "cell_type": "code",
   "execution_count": 5,
   "metadata": {},
   "outputs": [
    {
     "data": {
      "text/plain": [
       "0    6199\n",
       "1    5235\n",
       "Name: Target, dtype: int64"
      ]
     },
     "execution_count": 5,
     "metadata": {},
     "output_type": "execute_result"
    }
   ],
   "source": [
    "data['Target'].value_counts()"
   ]
  },
  {
   "cell_type": "code",
   "execution_count": 6,
   "metadata": {},
   "outputs": [
    {
     "data": {
      "text/html": [
       "<div>\n",
       "<style scoped>\n",
       "    .dataframe tbody tr th:only-of-type {\n",
       "        vertical-align: middle;\n",
       "    }\n",
       "\n",
       "    .dataframe tbody tr th {\n",
       "        vertical-align: top;\n",
       "    }\n",
       "\n",
       "    .dataframe thead th {\n",
       "        text-align: right;\n",
       "    }\n",
       "</style>\n",
       "<table border=\"1\" class=\"dataframe\">\n",
       "  <thead>\n",
       "    <tr style=\"text-align: right;\">\n",
       "      <th></th>\n",
       "      <th>Id</th>\n",
       "      <th>Text</th>\n",
       "      <th>Target</th>\n",
       "    </tr>\n",
       "  </thead>\n",
       "  <tbody>\n",
       "    <tr>\n",
       "      <td>0</td>\n",
       "      <td>2.900000e+17</td>\n",
       "      <td>Argh.. I hate my life</td>\n",
       "      <td>1</td>\n",
       "    </tr>\n",
       "    <tr>\n",
       "      <td>1</td>\n",
       "      <td>2.900000e+17</td>\n",
       "      <td>I'm good</td>\n",
       "      <td>0</td>\n",
       "    </tr>\n",
       "    <tr>\n",
       "      <td>2</td>\n",
       "      <td>2.900000e+17</td>\n",
       "      <td>Enjoy my life</td>\n",
       "      <td>0</td>\n",
       "    </tr>\n",
       "    <tr>\n",
       "      <td>3</td>\n",
       "      <td>2.900000e+17</td>\n",
       "      <td>RT : I do what I want</td>\n",
       "      <td>0</td>\n",
       "    </tr>\n",
       "    <tr>\n",
       "      <td>4</td>\n",
       "      <td>2.900000e+17</td>\n",
       "      <td>My life is just a series of unfortunate fucked...</td>\n",
       "      <td>1</td>\n",
       "    </tr>\n",
       "  </tbody>\n",
       "</table>\n",
       "</div>"
      ],
      "text/plain": [
       "             Id                                               Text  Target\n",
       "0  2.900000e+17                              Argh.. I hate my life       1\n",
       "1  2.900000e+17                                           I'm good       0\n",
       "2  2.900000e+17                                      Enjoy my life       0\n",
       "3  2.900000e+17                              RT : I do what I want       0\n",
       "4  2.900000e+17  My life is just a series of unfortunate fucked...       1"
      ]
     },
     "execution_count": 6,
     "metadata": {},
     "output_type": "execute_result"
    }
   ],
   "source": [
    "data.head()"
   ]
  },
  {
   "cell_type": "markdown",
   "metadata": {},
   "source": [
    "# PREPROCESSING"
   ]
  },
  {
   "cell_type": "code",
   "execution_count": 7,
   "metadata": {},
   "outputs": [
    {
     "data": {
      "text/plain": [
       "['Argh..', 'I', 'hate', 'my', 'life']"
      ]
     },
     "execution_count": 7,
     "metadata": {},
     "output_type": "execute_result"
    }
   ],
   "source": [
    "words = [i.split() for i in data['Text']]\n",
    "words[0]"
   ]
  },
  {
   "cell_type": "code",
   "execution_count": 8,
   "metadata": {},
   "outputs": [
    {
     "data": {
      "text/plain": [
       "['argh..', 'i', 'hate', 'my', 'life']"
      ]
     },
     "execution_count": 8,
     "metadata": {},
     "output_type": "execute_result"
    }
   ],
   "source": [
    "words = [[j.lower() for j in i] for i in words]\n",
    "words[0]"
   ]
  },
  {
   "cell_type": "code",
   "execution_count": 9,
   "metadata": {},
   "outputs": [],
   "source": [
    "words=[[ j for j in i if 'http' not in j or 'https:' not in j or '@' not in j or 'www' not in j] for i in words]"
   ]
  },
  {
   "cell_type": "code",
   "execution_count": 10,
   "metadata": {},
   "outputs": [
    {
     "data": {
      "text/plain": [
       "['argh', 'i', 'hate', 'my', 'life']"
      ]
     },
     "execution_count": 10,
     "metadata": {},
     "output_type": "execute_result"
    }
   ],
   "source": [
    "import re\n",
    "words=[[' '.join(re.findall('[a-zA-Z]+',j)) for j in i] for i in words]\n",
    "words[0]"
   ]
  },
  {
   "cell_type": "code",
   "execution_count": 11,
   "metadata": {},
   "outputs": [
    {
     "data": {
      "text/plain": [
       "['argh', 'hate', 'my', 'life']"
      ]
     },
     "execution_count": 11,
     "metadata": {},
     "output_type": "execute_result"
    }
   ],
   "source": [
    "words=[ [i for i in words[j] if len(i)>1]for j in range(len(words))]\n",
    "words[0]"
   ]
  },
  {
   "cell_type": "code",
   "execution_count": 12,
   "metadata": {},
   "outputs": [
    {
     "data": {
      "text/plain": [
       "['argh', 'hate', 'my', 'life']"
      ]
     },
     "execution_count": 12,
     "metadata": {},
     "output_type": "execute_result"
    }
   ],
   "source": [
    "words=[[j.replace(\" \",\"\") for j in i] for i in words]\n",
    "words[0]"
   ]
  },
  {
   "cell_type": "code",
   "execution_count": 13,
   "metadata": {},
   "outputs": [
    {
     "name": "stderr",
     "output_type": "stream",
     "text": [
      "[nltk_data] Downloading package stopwords to\n",
      "[nltk_data]     C:\\Users\\Murali\\AppData\\Roaming\\nltk_data...\n",
      "[nltk_data]   Package stopwords is already up-to-date!\n"
     ]
    },
    {
     "data": {
      "text/plain": [
       "['i',\n",
       " 'me',\n",
       " 'my',\n",
       " 'myself',\n",
       " 'we',\n",
       " 'our',\n",
       " 'ours',\n",
       " 'ourselves',\n",
       " 'you',\n",
       " 'youre',\n",
       " 'youve',\n",
       " 'youll',\n",
       " 'youd',\n",
       " 'your',\n",
       " 'yours',\n",
       " 'yourself',\n",
       " 'yourselves',\n",
       " 'he',\n",
       " 'him',\n",
       " 'his',\n",
       " 'himself',\n",
       " 'she',\n",
       " 'shes',\n",
       " 'her',\n",
       " 'hers',\n",
       " 'herself',\n",
       " 'it',\n",
       " 'its',\n",
       " 'its',\n",
       " 'itself',\n",
       " 'they',\n",
       " 'them',\n",
       " 'their',\n",
       " 'theirs',\n",
       " 'themselves',\n",
       " 'what',\n",
       " 'which',\n",
       " 'who',\n",
       " 'whom',\n",
       " 'this',\n",
       " 'that',\n",
       " 'thatll',\n",
       " 'these',\n",
       " 'those',\n",
       " 'am',\n",
       " 'is',\n",
       " 'are',\n",
       " 'was',\n",
       " 'were',\n",
       " 'be',\n",
       " 'been',\n",
       " 'being',\n",
       " 'have',\n",
       " 'has',\n",
       " 'had',\n",
       " 'having',\n",
       " 'do',\n",
       " 'does',\n",
       " 'did',\n",
       " 'doing',\n",
       " 'a',\n",
       " 'an',\n",
       " 'the',\n",
       " 'and',\n",
       " 'but',\n",
       " 'if',\n",
       " 'or',\n",
       " 'because',\n",
       " 'as',\n",
       " 'until',\n",
       " 'while',\n",
       " 'of',\n",
       " 'at',\n",
       " 'by',\n",
       " 'for',\n",
       " 'with',\n",
       " 'about',\n",
       " 'against',\n",
       " 'between',\n",
       " 'into',\n",
       " 'through',\n",
       " 'during',\n",
       " 'before',\n",
       " 'after',\n",
       " 'above',\n",
       " 'below',\n",
       " 'to',\n",
       " 'from',\n",
       " 'up',\n",
       " 'down',\n",
       " 'in',\n",
       " 'out',\n",
       " 'on',\n",
       " 'off',\n",
       " 'over',\n",
       " 'under',\n",
       " 'again',\n",
       " 'further',\n",
       " 'then',\n",
       " 'once',\n",
       " 'here',\n",
       " 'there',\n",
       " 'when',\n",
       " 'where',\n",
       " 'why',\n",
       " 'how',\n",
       " 'all',\n",
       " 'any',\n",
       " 'both',\n",
       " 'each',\n",
       " 'few',\n",
       " 'more',\n",
       " 'most',\n",
       " 'other',\n",
       " 'some',\n",
       " 'such',\n",
       " 'only',\n",
       " 'own',\n",
       " 'same',\n",
       " 'so',\n",
       " 'than',\n",
       " 'too',\n",
       " 'very',\n",
       " 's',\n",
       " 't',\n",
       " 'can',\n",
       " 'will',\n",
       " 'just',\n",
       " 'don',\n",
       " 'dont',\n",
       " 'should',\n",
       " 'shouldve',\n",
       " 'now',\n",
       " 'd',\n",
       " 'll',\n",
       " 'm',\n",
       " 'o',\n",
       " 're',\n",
       " 've',\n",
       " 'y',\n",
       " 'ain',\n",
       " 'aren',\n",
       " 'arent',\n",
       " 'couldn',\n",
       " 'couldnt',\n",
       " 'didn',\n",
       " 'didnt',\n",
       " 'doesn',\n",
       " 'doesnt',\n",
       " 'hadn',\n",
       " 'hadnt',\n",
       " 'hasn',\n",
       " 'hasnt',\n",
       " 'haven',\n",
       " 'havent',\n",
       " 'isn',\n",
       " 'isnt',\n",
       " 'ma',\n",
       " 'mightn',\n",
       " 'mightnt',\n",
       " 'mustn',\n",
       " 'mustnt',\n",
       " 'needn',\n",
       " 'neednt',\n",
       " 'shan',\n",
       " 'shant',\n",
       " 'shouldn',\n",
       " 'shouldnt',\n",
       " 'wasn',\n",
       " 'wasnt',\n",
       " 'weren',\n",
       " 'werent',\n",
       " 'won',\n",
       " 'wont',\n",
       " 'wouldn',\n",
       " 'wouldnt']"
      ]
     },
     "execution_count": 13,
     "metadata": {},
     "output_type": "execute_result"
    }
   ],
   "source": [
    "import nltk\n",
    "nltk.download('stopwords')\n",
    "from nltk.corpus import stopwords\n",
    "stop_words = list(stopwords.words('english'))\n",
    "stop_words.remove('no')\n",
    "stop_words.remove('nor')\n",
    "stop_words.remove('not')\n",
    "stop_words=[[re.sub('[^a-z]+','',j) for j in i] for i in stop_words]\n",
    "stop_words=[''.join(i)for i in stop_words]\n",
    "stop_words"
   ]
  },
  {
   "cell_type": "code",
   "execution_count": 14,
   "metadata": {},
   "outputs": [
    {
     "data": {
      "text/plain": [
       "['argh', 'hate', 'life']"
      ]
     },
     "execution_count": 14,
     "metadata": {},
     "output_type": "execute_result"
    }
   ],
   "source": [
    "words = [[j for j in i if j not in stop_words] for i in words]\n",
    "words[0]"
   ]
  },
  {
   "cell_type": "code",
   "execution_count": 15,
   "metadata": {},
   "outputs": [
    {
     "data": {
      "text/plain": [
       "['argh', 'hate', 'life']"
      ]
     },
     "execution_count": 15,
     "metadata": {},
     "output_type": "execute_result"
    }
   ],
   "source": [
    "from nltk.stem import WordNetLemmatizer\n",
    "for k,i in enumerate(words):\n",
    "    i=[WordNetLemmatizer().lemmatize(j,\"v\") for j in i]\n",
    "    words[k]=[WordNetLemmatizer().lemmatize(j,\"a\") for j in i]\n",
    "words[0]"
   ]
  },
  {
   "cell_type": "code",
   "execution_count": 16,
   "metadata": {},
   "outputs": [
    {
     "data": {
      "text/plain": [
       "['argh', 'hate', 'life']"
      ]
     },
     "execution_count": 16,
     "metadata": {},
     "output_type": "execute_result"
    }
   ],
   "source": [
    "from nltk.stem import PorterStemmer\n",
    "for k,i in enumerate(words):\n",
    "    words[k]=[PorterStemmer().stem(w) for w in i]\n",
    "words[0]"
   ]
  },
  {
   "cell_type": "code",
   "execution_count": 17,
   "metadata": {},
   "outputs": [
    {
     "data": {
      "text/plain": [
       "'argh hate life'"
      ]
     },
     "execution_count": 17,
     "metadata": {},
     "output_type": "execute_result"
    }
   ],
   "source": [
    "words = [' '.join(i) for i in words]\n",
    "words[0]"
   ]
  },
  {
   "cell_type": "code",
   "execution_count": 18,
   "metadata": {},
   "outputs": [
    {
     "data": {
      "text/html": [
       "<div>\n",
       "<style scoped>\n",
       "    .dataframe tbody tr th:only-of-type {\n",
       "        vertical-align: middle;\n",
       "    }\n",
       "\n",
       "    .dataframe tbody tr th {\n",
       "        vertical-align: top;\n",
       "    }\n",
       "\n",
       "    .dataframe thead th {\n",
       "        text-align: right;\n",
       "    }\n",
       "</style>\n",
       "<table border=\"1\" class=\"dataframe\">\n",
       "  <thead>\n",
       "    <tr style=\"text-align: right;\">\n",
       "      <th></th>\n",
       "      <th>Text</th>\n",
       "    </tr>\n",
       "  </thead>\n",
       "  <tbody>\n",
       "    <tr>\n",
       "      <td>0</td>\n",
       "      <td>argh hate life</td>\n",
       "    </tr>\n",
       "    <tr>\n",
       "      <td>1</td>\n",
       "      <td>im good</td>\n",
       "    </tr>\n",
       "    <tr>\n",
       "      <td>2</td>\n",
       "      <td>enjoy life</td>\n",
       "    </tr>\n",
       "    <tr>\n",
       "      <td>3</td>\n",
       "      <td>rt want</td>\n",
       "    </tr>\n",
       "    <tr>\n",
       "      <td>4</td>\n",
       "      <td>life seri unfortun fuck event margaretkuta mwr...</td>\n",
       "    </tr>\n",
       "  </tbody>\n",
       "</table>\n",
       "</div>"
      ],
      "text/plain": [
       "                                                Text\n",
       "0                                     argh hate life\n",
       "1                                            im good\n",
       "2                                         enjoy life\n",
       "3                                            rt want\n",
       "4  life seri unfortun fuck event margaretkuta mwr..."
      ]
     },
     "execution_count": 18,
     "metadata": {},
     "output_type": "execute_result"
    }
   ],
   "source": [
    "df = pd.DataFrame(words)\n",
    "df.columns = ['Text']\n",
    "df.head()"
   ]
  },
  {
   "cell_type": "code",
   "execution_count": 19,
   "metadata": {},
   "outputs": [
    {
     "data": {
      "text/html": [
       "<div>\n",
       "<style scoped>\n",
       "    .dataframe tbody tr th:only-of-type {\n",
       "        vertical-align: middle;\n",
       "    }\n",
       "\n",
       "    .dataframe tbody tr th {\n",
       "        vertical-align: top;\n",
       "    }\n",
       "\n",
       "    .dataframe thead th {\n",
       "        text-align: right;\n",
       "    }\n",
       "</style>\n",
       "<table border=\"1\" class=\"dataframe\">\n",
       "  <thead>\n",
       "    <tr style=\"text-align: right;\">\n",
       "      <th></th>\n",
       "      <th>Text</th>\n",
       "      <th>Target</th>\n",
       "    </tr>\n",
       "  </thead>\n",
       "  <tbody>\n",
       "    <tr>\n",
       "      <td>11429</td>\n",
       "      <td>ajhgdfakjhajha im disappoint orz</td>\n",
       "      <td>1</td>\n",
       "    </tr>\n",
       "    <tr>\n",
       "      <td>11430</td>\n",
       "      <td>rt suck life</td>\n",
       "      <td>1</td>\n",
       "    </tr>\n",
       "    <tr>\n",
       "      <td>11431</td>\n",
       "      <td>life shit guess mean</td>\n",
       "      <td>1</td>\n",
       "    </tr>\n",
       "    <tr>\n",
       "      <td>11432</td>\n",
       "      <td>hate</td>\n",
       "      <td>1</td>\n",
       "    </tr>\n",
       "    <tr>\n",
       "      <td>11433</td>\n",
       "      <td>feel depress</td>\n",
       "      <td>1</td>\n",
       "    </tr>\n",
       "  </tbody>\n",
       "</table>\n",
       "</div>"
      ],
      "text/plain": [
       "                                   Text  Target\n",
       "11429  ajhgdfakjhajha im disappoint orz       1\n",
       "11430                      rt suck life       1\n",
       "11431              life shit guess mean       1\n",
       "11432                              hate       1\n",
       "11433                      feel depress       1"
      ]
     },
     "execution_count": 19,
     "metadata": {},
     "output_type": "execute_result"
    }
   ],
   "source": [
    "df['Target'] = data['Target']\n",
    "df.head()\n",
    "df.tail()"
   ]
  },
  {
   "cell_type": "markdown",
   "metadata": {},
   "source": [
    "# DATA VISUALIZATION"
   ]
  },
  {
   "cell_type": "code",
   "execution_count": 20,
   "metadata": {},
   "outputs": [],
   "source": [
    "import seaborn as sns"
   ]
  },
  {
   "cell_type": "code",
   "execution_count": 21,
   "metadata": {},
   "outputs": [
    {
     "data": {
      "text/plain": [
       "<matplotlib.axes._subplots.AxesSubplot at 0x1e09424d048>"
      ]
     },
     "execution_count": 21,
     "metadata": {},
     "output_type": "execute_result"
    },
    {
     "data": {
      "image/png": "[encoded data removed]",
      "text/plain": [
       "<Figure size 432x288 with 1 Axes>"
      ]
     },
     "metadata": {
      "needs_background": "light"
     },
     "output_type": "display_data"
    }
   ],
   "source": [
    "sns.countplot(df['Target']) "
   ]
  },
  {
   "cell_type": "markdown",
   "metadata": {},
   "source": [
    "# FEATURE EXTRACTION"
   ]
  },
  {
   "cell_type": "code",
   "execution_count": 22,
   "metadata": {},
   "outputs": [],
   "source": [
    "from sklearn.model_selection import train_test_split\n",
    "x_train,x_test,y_train,y_test=train_test_split(df['Text'],df['Target'],test_size=0.2,shuffle=True)"
   ]
  },
  {
   "cell_type": "code",
   "execution_count": 23,
   "metadata": {},
   "outputs": [],
   "source": [
    "from sklearn.feature_extraction.text import TfidfVectorizer\n",
    "vectorizer = TfidfVectorizer(analyzer='word', stop_words='english',min_df=4,\n",
    "                                   ngram_range=(1, 1), max_features=3000)\n",
    "vectorizer.fit(x_train)\n",
    "xtrain_unigrams =  list(vectorizer.transform(x_train).toarray())\n",
    "xtest_unigrams = list(vectorizer.transform(x_test).toarray())"
   ]
  },
  {
   "cell_type": "code",
   "execution_count": 24,
   "metadata": {},
   "outputs": [
    {
     "name": "stderr",
     "output_type": "stream",
     "text": [
      "C:\\Users\\Murali\\AppData\\Roaming\\Python\\Python37\\site-packages\\sklearn\\utils\\deprecation.py:87: FutureWarning: Function get_feature_names is deprecated; get_feature_names is deprecated in 1.0 and will be removed in 1.2. Please use get_feature_names_out instead.\n",
      "  warnings.warn(msg, category=FutureWarning)\n"
     ]
    },
    {
     "data": {
      "text/plain": [
       "['abl',\n",
       " 'absolut',\n",
       " 'accept',\n",
       " 'ach',\n",
       " 'achiev',\n",
       " 'actual',\n",
       " 'adamtodd',\n",
       " 'adventur',\n",
       " 'ah',\n",
       " 'aint',\n",
       " 'alcohol',\n",
       " 'aliv',\n",
       " 'allah',\n",
       " 'allow',\n",
       " 'alon',\n",
       " 'alot',\n",
       " 'alreadi',\n",
       " 'alright',\n",
       " 'alway',\n",
       " 'amaaaaz',\n",
       " 'amaz',\n",
       " 'amen',\n",
       " 'amp',\n",
       " 'angri',\n",
       " 'annoy',\n",
       " 'anoth',\n",
       " 'anxieti',\n",
       " 'anymor',\n",
       " 'anyon',\n",
       " 'anyth',\n",
       " 'apart',\n",
       " 'appar',\n",
       " 'appreci',\n",
       " 'asap',\n",
       " 'ask',\n",
       " 'ass',\n",
       " 'atm',\n",
       " 'attitud',\n",
       " 'aw',\n",
       " 'awak',\n",
       " 'away',\n",
       " 'awesom',\n",
       " 'awh',\n",
       " 'awkward',\n",
       " 'babe',\n",
       " 'babi',\n",
       " 'bad',\n",
       " 'basic',\n",
       " 'bc',\n",
       " 'beauti',\n",
       " 'becom',\n",
       " 'bed',\n",
       " 'begin',\n",
       " 'believ',\n",
       " 'best',\n",
       " 'bestfriend',\n",
       " 'bieberlight',\n",
       " 'big',\n",
       " 'bitch',\n",
       " 'bite',\n",
       " 'black',\n",
       " 'blame',\n",
       " 'blast',\n",
       " 'bless',\n",
       " 'bodi',\n",
       " 'bore',\n",
       " 'boredom',\n",
       " 'bout',\n",
       " 'boy',\n",
       " 'boyfriend',\n",
       " 'break',\n",
       " 'breath',\n",
       " 'brilliant',\n",
       " 'bring',\n",
       " 'bro',\n",
       " 'brother',\n",
       " 'bullshit',\n",
       " 'bunni',\n",
       " 'busi',\n",
       " 'button',\n",
       " 'buy',\n",
       " 'bye',\n",
       " 'camper',\n",
       " 'campu',\n",
       " 'car',\n",
       " 'care',\n",
       " 'caus',\n",
       " 'chang',\n",
       " 'check',\n",
       " 'child',\n",
       " 'choos',\n",
       " 'clearli',\n",
       " 'colleg',\n",
       " 'come',\n",
       " 'comfi',\n",
       " 'comfort',\n",
       " 'complain',\n",
       " 'complet',\n",
       " 'complic',\n",
       " 'constantli',\n",
       " 'content',\n",
       " 'continu',\n",
       " 'convinc',\n",
       " 'cours',\n",
       " 'cramp',\n",
       " 'crazi',\n",
       " 'cri',\n",
       " 'current',\n",
       " 'cut',\n",
       " 'cute',\n",
       " 'cuz',\n",
       " 'da',\n",
       " 'dad',\n",
       " 'daili',\n",
       " 'dailyteenword',\n",
       " 'dailytweet',\n",
       " 'damn',\n",
       " 'damnitstru',\n",
       " 'dang',\n",
       " 'daughter',\n",
       " 'day',\n",
       " 'dead',\n",
       " 'dear',\n",
       " 'decid',\n",
       " 'decis',\n",
       " 'definit',\n",
       " 'depress',\n",
       " 'describ',\n",
       " 'deserv',\n",
       " 'die',\n",
       " 'differ',\n",
       " 'direct',\n",
       " 'disappoint',\n",
       " 'disgust',\n",
       " 'dnt',\n",
       " 'doe',\n",
       " 'drama',\n",
       " 'dream',\n",
       " 'drink',\n",
       " 'dude',\n",
       " 'earth',\n",
       " 'easi',\n",
       " 'easili',\n",
       " 'eat',\n",
       " 'els',\n",
       " 'embarrass',\n",
       " 'emot',\n",
       " 'empti',\n",
       " 'end',\n",
       " 'energi',\n",
       " 'enjoy',\n",
       " 'entir',\n",
       " 'everi',\n",
       " 'everybodi',\n",
       " 'everyday',\n",
       " 'everyon',\n",
       " 'everyth',\n",
       " 'everytim',\n",
       " 'everywher',\n",
       " 'exactli',\n",
       " 'excit',\n",
       " 'exist',\n",
       " 'explain',\n",
       " 'extrem',\n",
       " 'eye',\n",
       " 'fabul',\n",
       " 'face',\n",
       " 'fact',\n",
       " 'factsforgiri',\n",
       " 'failur',\n",
       " 'fall',\n",
       " 'famili',\n",
       " 'fan',\n",
       " 'fantast',\n",
       " 'far',\n",
       " 'fart',\n",
       " 'fast',\n",
       " 'fat',\n",
       " 'favor',\n",
       " 'feel',\n",
       " 'feelin',\n",
       " 'felt',\n",
       " 'ff',\n",
       " 'fight',\n",
       " 'final',\n",
       " 'fine',\n",
       " 'fix',\n",
       " 'flaw',\n",
       " 'fml',\n",
       " 'follow',\n",
       " 'forev',\n",
       " 'forgiv',\n",
       " 'forreal',\n",
       " 'freak',\n",
       " 'freakin',\n",
       " 'freddy',\n",
       " 'free',\n",
       " 'friend',\n",
       " 'fuck',\n",
       " 'fuckin',\n",
       " 'fuckmylif',\n",
       " 'fun',\n",
       " 'funni',\n",
       " 'futur',\n",
       " 'gener',\n",
       " 'genuin',\n",
       " 'gf',\n",
       " 'gift',\n",
       " 'girl',\n",
       " 'girlfriend',\n",
       " 'glad',\n",
       " 'goal',\n",
       " 'god',\n",
       " 'gonna',\n",
       " 'good',\n",
       " 'goodnight',\n",
       " 'gorgeou',\n",
       " 'gosh',\n",
       " 'gotta',\n",
       " 'grate',\n",
       " 'great',\n",
       " 'guess',\n",
       " 'guy',\n",
       " 'ha',\n",
       " 'haha',\n",
       " 'hahah',\n",
       " 'hahaha',\n",
       " 'hahahah',\n",
       " 'hahahaha',\n",
       " 'hang',\n",
       " 'happen',\n",
       " 'happi',\n",
       " 'hard',\n",
       " 'hat',\n",
       " 'hate',\n",
       " 'head',\n",
       " 'headach',\n",
       " 'healthi',\n",
       " 'hear',\n",
       " 'heart',\n",
       " 'heartstagram',\n",
       " 'heat',\n",
       " 'hell',\n",
       " 'hello',\n",
       " 'help',\n",
       " 'hey',\n",
       " 'hi',\n",
       " 'high',\n",
       " 'highli',\n",
       " 'hilari',\n",
       " 'hold',\n",
       " 'hole',\n",
       " 'holi',\n",
       " 'home',\n",
       " 'honestli',\n",
       " 'hop',\n",
       " 'hope',\n",
       " 'horribl',\n",
       " 'hous',\n",
       " 'huh',\n",
       " 'hungri',\n",
       " 'hurt',\n",
       " 'iam',\n",
       " 'id',\n",
       " 'idc',\n",
       " 'idea',\n",
       " 'idk',\n",
       " 'ikr',\n",
       " 'ill',\n",
       " 'im',\n",
       " 'imagin',\n",
       " 'incred',\n",
       " 'insecur',\n",
       " 'involv',\n",
       " 'issu',\n",
       " 'ive',\n",
       " 'jealou',\n",
       " 'jesu',\n",
       " 'jk',\n",
       " 'job',\n",
       " 'joke',\n",
       " 'ju',\n",
       " 'kid',\n",
       " 'kill',\n",
       " 'kind',\n",
       " 'kinda',\n",
       " 'kno',\n",
       " 'know',\n",
       " 'lame',\n",
       " 'late',\n",
       " 'laugh',\n",
       " 'lay',\n",
       " 'lead',\n",
       " 'leav',\n",
       " 'legit',\n",
       " 'let',\n",
       " 'lie',\n",
       " 'life',\n",
       " 'lifestyl',\n",
       " 'like',\n",
       " 'lil',\n",
       " 'listen',\n",
       " 'liter',\n",
       " 'littl',\n",
       " 'live',\n",
       " 'livin',\n",
       " 'lmao',\n",
       " 'lmfao',\n",
       " 'lmfaoo',\n",
       " 'lol',\n",
       " 'long',\n",
       " 'look',\n",
       " 'lord',\n",
       " 'lose',\n",
       " 'lot',\n",
       " 'love',\n",
       " 'lovemylif',\n",
       " 'low',\n",
       " 'lt',\n",
       " 'luck',\n",
       " 'lucki',\n",
       " 'mad',\n",
       " 'make',\n",
       " 'man',\n",
       " 'mani',\n",
       " 'marri',\n",
       " 'matter',\n",
       " 'mayb',\n",
       " 'mean',\n",
       " 'meekmil',\n",
       " 'meet',\n",
       " 'memori',\n",
       " 'mess',\n",
       " 'mi',\n",
       " 'mind',\n",
       " 'minu',\n",
       " 'minut',\n",
       " 'miser',\n",
       " 'miseri',\n",
       " 'miss',\n",
       " 'mistak',\n",
       " 'mom',\n",
       " 'moment',\n",
       " 'money',\n",
       " 'mood',\n",
       " 'morn',\n",
       " 'mother',\n",
       " 'motiv',\n",
       " 'movi',\n",
       " 'music',\n",
       " 'mywishin',\n",
       " 'na',\n",
       " 'nah',\n",
       " 'nahh',\n",
       " 'naw',\n",
       " 'need',\n",
       " 'neg',\n",
       " 'new',\n",
       " 'ngga',\n",
       " 'nice',\n",
       " 'nigga',\n",
       " 'night',\n",
       " 'nobodi',\n",
       " 'nope',\n",
       " 'noth',\n",
       " 'nothin',\n",
       " 'ntamyra',\n",
       " 'nvm',\n",
       " 'obvious',\n",
       " 'offici',\n",
       " 'oh',\n",
       " 'ok',\n",
       " 'okay',\n",
       " 'old',\n",
       " 'omfg',\n",
       " 'omg',\n",
       " 'outta',\n",
       " 'overthink',\n",
       " 'pain',\n",
       " 'paranoid',\n",
       " 'parent',\n",
       " 'past',\n",
       " 'pathet',\n",
       " 'peac',\n",
       " 'peopl',\n",
       " 'perfect',\n",
       " 'perfectli',\n",
       " 'person',\n",
       " 'phone',\n",
       " 'piersmorgan',\n",
       " 'piss',\n",
       " 'pitch',\n",
       " 'place',\n",
       " 'plan',\n",
       " 'play',\n",
       " 'pleas',\n",
       " 'pocket',\n",
       " 'point',\n",
       " 'posit',\n",
       " 'possibl',\n",
       " 'ppl',\n",
       " 'prefer',\n",
       " 'pretend',\n",
       " 'pretti',\n",
       " 'probabl',\n",
       " 'problem',\n",
       " 'proud',\n",
       " 'prove',\n",
       " 'quit',\n",
       " 'read',\n",
       " 'readi',\n",
       " 'real',\n",
       " 'realiz',\n",
       " 'realli',\n",
       " 'reason',\n",
       " 'refus',\n",
       " 'regret',\n",
       " 'reiatabl',\n",
       " 'relationship',\n",
       " 'rememb',\n",
       " 'repeat',\n",
       " 'rich',\n",
       " 'ridicul',\n",
       " 'right',\n",
       " 'rn',\n",
       " 'rt',\n",
       " 'rtdamnitstru',\n",
       " 'ruin',\n",
       " 'run',\n",
       " 'sad',\n",
       " 'satisfi',\n",
       " 'say',\n",
       " 'scar',\n",
       " 'school',\n",
       " 'scream',\n",
       " 'screw',\n",
       " 'second',\n",
       " 'seri',\n",
       " 'set',\n",
       " 'shit',\n",
       " 'shitfest',\n",
       " 'shitti',\n",
       " 'shoot',\n",
       " 'short',\n",
       " 'shut',\n",
       " 'sial',\n",
       " 'sick',\n",
       " 'sigh',\n",
       " 'simpl',\n",
       " 'simpli',\n",
       " 'sinc',\n",
       " 'sing',\n",
       " 'singl',\n",
       " 'sister',\n",
       " 'sit',\n",
       " 'situat',\n",
       " 'sleep',\n",
       " 'smh',\n",
       " 'smile',\n",
       " 'smoke',\n",
       " 'sneez',\n",
       " 'social',\n",
       " 'someon',\n",
       " 'someth',\n",
       " 'sometim',\n",
       " 'song',\n",
       " 'soo',\n",
       " 'sooo',\n",
       " 'soooo',\n",
       " 'sorri',\n",
       " 'sound',\n",
       " 'spoil',\n",
       " 'stand',\n",
       " 'start',\n",
       " 'stay',\n",
       " 'stop',\n",
       " 'stori',\n",
       " 'straight',\n",
       " 'stress',\n",
       " 'struggl',\n",
       " 'stuff',\n",
       " 'stupid',\n",
       " 'style',\n",
       " 'suck',\n",
       " 'suicid',\n",
       " 'sunshin',\n",
       " 'super',\n",
       " 'support',\n",
       " 'suppos',\n",
       " 'sure',\n",
       " 'surround',\n",
       " 'swear',\n",
       " 'sweet',\n",
       " 'talk',\n",
       " 'tbh',\n",
       " 'tear',\n",
       " 'tedspost',\n",
       " 'tell',\n",
       " 'terribl',\n",
       " 'tf',\n",
       " 'tglick',\n",
       " 'thank',\n",
       " 'therefor',\n",
       " 'thing',\n",
       " 'think',\n",
       " 'tho',\n",
       " 'thought',\n",
       " 'throw',\n",
       " 'tht',\n",
       " 'time',\n",
       " 'tire',\n",
       " 'today',\n",
       " 'togeth',\n",
       " 'total',\n",
       " 'trade',\n",
       " 'tri',\n",
       " 'trillassblasian',\n",
       " 'trip',\n",
       " 'tripl',\n",
       " 'troubl',\n",
       " 'true',\n",
       " 'truli',\n",
       " 'trust',\n",
       " 'truth',\n",
       " 'tt',\n",
       " 'turn',\n",
       " 'tweet',\n",
       " 'twitter',\n",
       " 'ugh',\n",
       " 'ugli',\n",
       " 'uh',\n",
       " 'uncomfort',\n",
       " 'understand',\n",
       " 'unhappi',\n",
       " 'upset',\n",
       " 'ur',\n",
       " 'use',\n",
       " 'useless',\n",
       " 'victori',\n",
       " 'wa',\n",
       " 'wait',\n",
       " 'wake',\n",
       " 'wanna',\n",
       " 'want',\n",
       " 'wast',\n",
       " 'watch',\n",
       " 'way',\n",
       " 'week',\n",
       " 'weird',\n",
       " 'welcom',\n",
       " 'whatev',\n",
       " 'wife',\n",
       " 'win',\n",
       " 'wish',\n",
       " 'wit',\n",
       " 'wizkhalifa',\n",
       " 'woman',\n",
       " 'wonder',\n",
       " 'word',\n",
       " 'work',\n",
       " 'world',\n",
       " 'worri',\n",
       " 'worthless',\n",
       " 'wow',\n",
       " 'wrong',\n",
       " 'wtf',\n",
       " 'xd',\n",
       " 'xoxo',\n",
       " 'ya',\n",
       " 'yall',\n",
       " 'yay',\n",
       " 'ye',\n",
       " 'yea',\n",
       " 'yeah',\n",
       " 'year',\n",
       " 'yep',\n",
       " 'yess',\n",
       " 'yo',\n",
       " 'young',\n",
       " 'yup']"
      ]
     },
     "execution_count": 24,
     "metadata": {},
     "output_type": "execute_result"
    }
   ],
   "source": [
    "len(vectorizer.get_feature_names())\n",
    "vectorizer.get_feature_names()"
   ]
  },
  {
   "cell_type": "markdown",
   "metadata": {},
   "source": [
    "# CLASSIFICATION"
   ]
  },
  {
   "cell_type": "code",
   "execution_count": 25,
   "metadata": {},
   "outputs": [],
   "source": [
    "from sklearn import svm\n",
    "from sklearn import ensemble\n",
    "from sklearn import neural_network\n",
    "from sklearn.metrics import accuracy_score, classification_report\n",
    "from sklearn.naive_bayes import MultinomialNB"
   ]
  },
  {
   "cell_type": "markdown",
   "metadata": {},
   "source": [
    "### SVM"
   ]
  },
  {
   "cell_type": "code",
   "execution_count": 26,
   "metadata": {},
   "outputs": [
    {
     "data": {
      "text/plain": [
       "SVC()"
      ]
     },
     "execution_count": 26,
     "metadata": {},
     "output_type": "execute_result"
    }
   ],
   "source": [
    "svm1=svm.SVC(kernel='rbf',gamma='scale',shrinking=True, degree=3,random_state=None)\n",
    "svm1.fit(xtrain_unigrams,y_train)\n"
   ]
  },
  {
   "cell_type": "code",
   "execution_count": 27,
   "metadata": {},
   "outputs": [],
   "source": [
    "ypredict_unigrams_svm = svm1.predict(xtest_unigrams)"
   ]
  },
  {
   "cell_type": "code",
   "execution_count": 28,
   "metadata": {},
   "outputs": [
    {
     "data": {
      "text/plain": [
       "0.944905990380411"
      ]
     },
     "execution_count": 28,
     "metadata": {},
     "output_type": "execute_result"
    }
   ],
   "source": [
    "accuracy_score(y_test,ypredict_unigrams_svm)"
   ]
  },
  {
   "cell_type": "code",
   "execution_count": 29,
   "metadata": {},
   "outputs": [
    {
     "name": "stdout",
     "output_type": "stream",
     "text": [
      "              precision    recall  f1-score   support\n",
      "\n",
      "           0       0.94      0.96      0.95      1263\n",
      "           1       0.95      0.93      0.94      1024\n",
      "\n",
      "    accuracy                           0.94      2287\n",
      "   macro avg       0.95      0.94      0.94      2287\n",
      "weighted avg       0.94      0.94      0.94      2287\n",
      "\n"
     ]
    }
   ],
   "source": [
    "print(classification_report(y_test,ypredict_unigrams_svm))"
   ]
  },
  {
   "cell_type": "markdown",
   "metadata": {},
   "source": [
    "### RANDOM FOREST"
   ]
  },
  {
   "cell_type": "code",
   "execution_count": 30,
   "metadata": {},
   "outputs": [
    {
     "data": {
      "text/plain": [
       "RandomForestClassifier()"
      ]
     },
     "execution_count": 30,
     "metadata": {},
     "output_type": "execute_result"
    }
   ],
   "source": [
    "rf=ensemble.RandomForestClassifier(n_estimators=100)\n",
    "rf.fit(xtrain_unigrams,y_train)"
   ]
  },
  {
   "cell_type": "code",
   "execution_count": 31,
   "metadata": {},
   "outputs": [],
   "source": [
    "ypredict_unigrams_rf = rf.predict(xtest_unigrams)"
   ]
  },
  {
   "cell_type": "code",
   "execution_count": 32,
   "metadata": {},
   "outputs": [
    {
     "data": {
      "text/plain": [
       "0.9453432444250109"
      ]
     },
     "execution_count": 32,
     "metadata": {},
     "output_type": "execute_result"
    }
   ],
   "source": [
    "accuracy_score(y_test,ypredict_unigrams_rf)"
   ]
  },
  {
   "cell_type": "code",
   "execution_count": 33,
   "metadata": {},
   "outputs": [
    {
     "name": "stdout",
     "output_type": "stream",
     "text": [
      "              precision    recall  f1-score   support\n",
      "\n",
      "           0       0.94      0.96      0.95      1263\n",
      "           1       0.95      0.93      0.94      1024\n",
      "\n",
      "    accuracy                           0.95      2287\n",
      "   macro avg       0.95      0.94      0.94      2287\n",
      "weighted avg       0.95      0.95      0.95      2287\n",
      "\n"
     ]
    }
   ],
   "source": [
    "print(classification_report(y_test,ypredict_unigrams_rf))"
   ]
  },
  {
   "cell_type": "markdown",
   "metadata": {},
   "source": [
    "### MLP"
   ]
  },
  {
   "cell_type": "code",
   "execution_count": 34,
   "metadata": {},
   "outputs": [
    {
     "data": {
      "text/plain": [
       "MLPClassifier(activation='tanh', alpha=0.05, hidden_layer_sizes=(50,),\n",
       "              learning_rate='adaptive', max_iter=800)"
      ]
     },
     "execution_count": 34,
     "metadata": {},
     "output_type": "execute_result"
    }
   ],
   "source": [
    "mlp=neural_network.MLPClassifier(max_iter=800,activation='tanh',alpha=0.05,learning_rate='adaptive',\n",
    "                                 hidden_layer_sizes=(50,),solver='adam')\n",
    "mlp.fit(xtrain_unigrams,y_train)"
   ]
  },
  {
   "cell_type": "code",
   "execution_count": 35,
   "metadata": {},
   "outputs": [],
   "source": [
    "ypredict_unigrams_mlp = mlp.predict(xtest_unigrams)"
   ]
  },
  {
   "cell_type": "code",
   "execution_count": 36,
   "metadata": {},
   "outputs": [
    {
     "data": {
      "text/plain": [
       "0.9274158285964145"
      ]
     },
     "execution_count": 36,
     "metadata": {},
     "output_type": "execute_result"
    }
   ],
   "source": [
    "accuracy_score(y_test,ypredict_unigrams_mlp)"
   ]
  },
  {
   "cell_type": "code",
   "execution_count": 37,
   "metadata": {},
   "outputs": [
    {
     "name": "stdout",
     "output_type": "stream",
     "text": [
      "              precision    recall  f1-score   support\n",
      "\n",
      "           0       0.93      0.94      0.93      1263\n",
      "           1       0.92      0.92      0.92      1024\n",
      "\n",
      "    accuracy                           0.93      2287\n",
      "   macro avg       0.93      0.93      0.93      2287\n",
      "weighted avg       0.93      0.93      0.93      2287\n",
      "\n"
     ]
    }
   ],
   "source": [
    "print(classification_report(y_test,ypredict_unigrams_mlp))"
   ]
  },
  {
   "cell_type": "markdown",
   "metadata": {},
   "source": [
    "### NAIVE BAYES"
   ]
  },
  {
   "cell_type": "code",
   "execution_count": 38,
   "metadata": {},
   "outputs": [
    {
     "data": {
      "text/plain": [
       "MultinomialNB()"
      ]
     },
     "execution_count": 38,
     "metadata": {},
     "output_type": "execute_result"
    }
   ],
   "source": [
    "mnb = MultinomialNB()\n",
    "mnb.fit(xtrain_unigrams,y_train)"
   ]
  },
  {
   "cell_type": "code",
   "execution_count": 39,
   "metadata": {},
   "outputs": [],
   "source": [
    "ypredict_unigrams_mnb = mnb.predict(xtest_unigrams)"
   ]
  },
  {
   "cell_type": "code",
   "execution_count": 40,
   "metadata": {},
   "outputs": [
    {
     "data": {
      "text/plain": [
       "0.910362920857018"
      ]
     },
     "execution_count": 40,
     "metadata": {},
     "output_type": "execute_result"
    }
   ],
   "source": [
    "accuracy_score(y_test,ypredict_unigrams_mnb)"
   ]
  },
  {
   "cell_type": "code",
   "execution_count": 41,
   "metadata": {},
   "outputs": [
    {
     "name": "stdout",
     "output_type": "stream",
     "text": [
      "              precision    recall  f1-score   support\n",
      "\n",
      "           0       0.91      0.93      0.92      1263\n",
      "           1       0.91      0.88      0.90      1024\n",
      "\n",
      "    accuracy                           0.91      2287\n",
      "   macro avg       0.91      0.91      0.91      2287\n",
      "weighted avg       0.91      0.91      0.91      2287\n",
      "\n"
     ]
    }
   ],
   "source": [
    "print(classification_report(y_test,ypredict_unigrams_mnb))"
   ]
  },
  {
   "cell_type": "markdown",
   "metadata": {},
   "source": [
    "# COMPARISION OF ML MODELS"
   ]
  },
  {
   "cell_type": "code",
   "execution_count": 42,
   "metadata": {},
   "outputs": [],
   "source": [
    "import matplotlib.pyplot as plt\n",
    "import numpy as np"
   ]
  },
  {
   "cell_type": "code",
   "execution_count": 43,
   "metadata": {},
   "outputs": [
    {
     "data": {
      "text/plain": [
       "Text(0.5, 1.0, 'Accuracy comparision')"
      ]
     },
     "execution_count": 43,
     "metadata": {},
     "output_type": "execute_result"
    },
    {
     "data": {
      "image/png": "[encoded data removed]",
      "text/plain": [
       "<Figure size 720x360 with 1 Axes>"
      ]
     },
     "metadata": {
      "needs_background": "light"
     },
     "output_type": "display_data"
    }
   ],
   "source": [
    "d = {'SVM':0.9418452120682116, 'Random Forest':0.9392216878006121, 'MultiLayer Perceptron':0.9256668124180149, 'NaiveBayes':0.9016178399650197}\n",
    "models = list(d.keys())\n",
    "accuracy = list(d.values())\n",
    "fig= plt.figure(figsize = (10, 5))\n",
    "\n",
    "plt.barh(models, accuracy, color ='rbgy')\n",
    "plt.ylabel('Models')\n",
    "plt.xlabel('Accuracy')\n",
    "plt.title('Accuracy comparision')"
   ]
  },
  {
   "cell_type": "code",
   "execution_count": null,
   "metadata": {},
   "outputs": [],
   "source": []
  },
  {
   "cell_type": "code",
   "execution_count": null,
   "metadata": {},
   "outputs": [],
   "source": []
  },
  {
   "cell_type": "code",
   "execution_count": 44,
   "metadata": {},
   "outputs": [],
   "source": [
    "import pickle\n",
    "filename = 'vectorizer.pkl'\n",
    "pickle.dump(vectorizer, open(filename, 'wb'))"
   ]
  },
  {
   "cell_type": "code",
   "execution_count": 45,
   "metadata": {},
   "outputs": [],
   "source": [
    "filename = 'prediction.pkl'\n",
    "pickle.dump(svm1, open(filename, 'wb'))"
   ]
  },
  {
   "cell_type": "code",
   "execution_count": null,
   "metadata": {},
   "outputs": [],
   "source": []
  }
 ],
 "metadata": {
  "kernelspec": {
   "display_name": "Python 3",
   "language": "python",
   "name": "python3"
  },
  "language_info": {
   "codemirror_mode": {
    "name": "ipython",
    "version": 3
   },
   "file_extension": ".py",
   "mimetype": "text/x-python",
   "name": "python",
   "nbconvert_exporter": "python",
   "pygments_lexer": "ipython3",
   "version": "3.7.4"
  }
 },
 "nbformat": 4,
 "nbformat_minor": 2
}
